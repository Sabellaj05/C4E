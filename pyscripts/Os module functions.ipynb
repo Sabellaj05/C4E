{
 "cells": [
  {
   "cell_type": "code",
   "execution_count": 1,
   "id": "9085da67",
   "metadata": {},
   "outputs": [],
   "source": [
    "import os"
   ]
  },
  {
   "cell_type": "code",
   "execution_count": 3,
   "id": "65cedc0c",
   "metadata": {},
   "outputs": [
    {
     "data": {
      "text/plain": [
       "str"
      ]
     },
     "execution_count": 3,
     "metadata": {},
     "output_type": "execute_result"
    }
   ],
   "source": [
    "os.getcwd()"
   ]
  },
  {
   "cell_type": "markdown",
   "id": "5d77f19d",
   "metadata": {},
   "source": [
    "### Absolute path of a directory\n",
    "`os.path.abspath(somepath)`"
   ]
  },
  {
   "cell_type": "code",
   "execution_count": 8,
   "id": "f037cae5",
   "metadata": {},
   "outputs": [
    {
     "data": {
      "text/plain": [
       "'C:\\\\Users\\\\Don\\\\Documents\\\\pyscripts\\\\imgs'"
      ]
     },
     "execution_count": 8,
     "metadata": {},
     "output_type": "execute_result"
    }
   ],
   "source": [
    "path = \"./imgs/\"\n",
    "os.path.abspath(path)"
   ]
  },
  {
   "cell_type": "code",
   "execution_count": 17,
   "id": "374b80ad",
   "metadata": {},
   "outputs": [
    {
     "data": {
      "text/plain": [
       "'C:\\\\Users\\\\Don\\\\Documents'"
      ]
     },
     "execution_count": 17,
     "metadata": {},
     "output_type": "execute_result"
    }
   ],
   "source": [
    "os.path.dirname(os.getcwd())"
   ]
  },
  {
   "cell_type": "code",
   "execution_count": 18,
   "id": "27bce412",
   "metadata": {},
   "outputs": [
    {
     "data": {
      "text/plain": [
       "'C:\\\\Users\\\\Don\\\\Documents\\\\pyscripts'"
      ]
     },
     "execution_count": 18,
     "metadata": {},
     "output_type": "execute_result"
    }
   ],
   "source": [
    "os.path.expanduser(os.getcwd())"
   ]
  },
  {
   "cell_type": "code",
   "execution_count": 19,
   "id": "fd65ec7c",
   "metadata": {},
   "outputs": [
    {
     "data": {
      "text/plain": [
       "1688322509.7438707"
      ]
     },
     "execution_count": 19,
     "metadata": {},
     "output_type": "execute_result"
    }
   ],
   "source": [
    "os.path.getatime(r\"C:/Users/Don/Documents/Jupyter/\")"
   ]
  },
  {
   "cell_type": "code",
   "execution_count": 20,
   "id": "cd88e3c3",
   "metadata": {},
   "outputs": [
    {
     "data": {
      "text/plain": [
       "8192"
      ]
     },
     "execution_count": 20,
     "metadata": {},
     "output_type": "execute_result"
    }
   ],
   "source": [
    "os.path.getsize(r\"C:/Users/Don/Documents/Jupyter/\")"
   ]
  },
  {
   "cell_type": "code",
   "execution_count": 23,
   "id": "b769d99f",
   "metadata": {},
   "outputs": [
    {
     "data": {
      "text/plain": [
       "os.stat_result(st_mode=16895, st_ino=281474977029460, st_dev=942840873, st_nlink=1, st_uid=0, st_gid=0, st_size=8192, st_atime=1688322509, st_mtime=1688271474, st_ctime=1670820301)"
      ]
     },
     "execution_count": 23,
     "metadata": {},
     "output_type": "execute_result"
    }
   ],
   "source": [
    "os.stat(r\"C:/Users/Don/Documents/Jupyter/\")"
   ]
  }
 ],
 "metadata": {
  "kernelspec": {
   "display_name": "Python 3 (ipykernel)",
   "language": "python",
   "name": "python3"
  },
  "language_info": {
   "codemirror_mode": {
    "name": "ipython",
    "version": 3
   },
   "file_extension": ".py",
   "mimetype": "text/x-python",
   "name": "python",
   "nbconvert_exporter": "python",
   "pygments_lexer": "ipython3",
   "version": "3.10.9"
  }
 },
 "nbformat": 4,
 "nbformat_minor": 5
}
