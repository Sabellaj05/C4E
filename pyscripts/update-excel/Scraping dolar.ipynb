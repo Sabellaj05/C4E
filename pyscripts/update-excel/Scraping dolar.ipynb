{
 "cells": [
  {
   "cell_type": "markdown",
   "id": "14c3f5b3-3d67-4889-adfd-8869d2a9e85d",
   "metadata": {},
   "source": [
    "# Scrapping dolar y mandarlo a Excel"
   ]
  },
  {
   "cell_type": "markdown",
   "id": "9821db80-1ee2-4eee-b5a9-5090003a8d3d",
   "metadata": {},
   "source": [
    "## Get dolars"
   ]
  },
  {
   "cell_type": "code",
   "execution_count": 1,
   "id": "2f3de83f-936b-46db-91d4-ad0c296b85ae",
   "metadata": {},
   "outputs": [],
   "source": [
    "import os\n",
    "import pandas as pd\n",
    "from bs4 import BeautifulSoup\n",
    "import requests"
   ]
  },
  {
   "cell_type": "code",
   "execution_count": 2,
   "id": "3f008921-244e-46fc-85b9-a90726a43c5a",
   "metadata": {},
   "outputs": [],
   "source": [
    "urls =  {\"dolar_oficial\": \"https://dolarhoy.com/cotizaciondolaroficial\",\n",
    "         \"dolar_blue\": \"https://dolarhoy.com/cotizaciondolarblue\"}\n",
    "\n",
    "def get_dolars(urls: dict[str]) -> tuple:\n",
    "    \n",
    "    try:\n",
    "        # get html \n",
    "        response_ofi = requests.get(urls[\"dolar_oficial\"])\n",
    "        response_ofi.raise_for_status()\n",
    "        response_blue = requests.get(urls[\"dolar_blue\"])\n",
    "        response_blue.raise_for_status()\n",
    "        \n",
    "        # parse html to soup object\n",
    "        soup_ofi = BeautifulSoup(response_ofi.text, 'html.parser')\n",
    "        soup_blue = BeautifulSoup(response_blue.text, 'html.parser')\n",
    "        \n",
    "        # find particular tags and attributes, .text method to get only the text inside the div\n",
    "        dolar_ofi = soup_ofi.find(\"div\", class_=\"value\").text\n",
    "        dolar_blue = soup_blue.find(\"div\", class_=\"value\").text\n",
    "\n",
    "        # Sacamos el '$' y convertimos a float\n",
    "        dolar_ofi = float(dolar_ofi.lstrip(\"$\"))\n",
    "        dolar_blue = float(dolar_blue.lstrip(\"$\"))\n",
    "        # print(dolar_ofi)\n",
    "        # print(dolar_blue)\n",
    "        \n",
    "    except Exception as e:\n",
    "        print(e)\n",
    "\n",
    "    return dolar_ofi, dolar_blue\n",
    "    "
   ]
  },
  {
   "cell_type": "code",
   "execution_count": 3,
   "id": "a8e84f45-3ae1-47f2-8a69-3eb2b78c8f62",
   "metadata": {},
   "outputs": [],
   "source": [
    "# get data\n",
    "dolar_oficial, dolar_blue = get_dolars(urls)"
   ]
  },
  {
   "cell_type": "code",
   "execution_count": 4,
   "id": "afe51ef0-64ac-47cb-9135-1ee629f5ae30",
   "metadata": {},
   "outputs": [
    {
     "name": "stdout",
     "output_type": "stream",
     "text": [
      "Dolar Oficial: 894.0\n",
      "Dolar Blue: 1035.0\n"
     ]
    }
   ],
   "source": [
    "print(f\"Dolar Oficial: {dolar_oficial}\\nDolar Blue: {dolar_blue}\")"
   ]
  },
  {
   "cell_type": "markdown",
   "id": "cb390c7f-f756-4a3b-8e55-21fffc2a4e38",
   "metadata": {},
   "source": [
    "## Adding data to Excel sheet"
   ]
  },
  {
   "cell_type": "code",
   "execution_count": 5,
   "id": "1a615bd8-16a4-4d3a-9bfe-d4cf4e288a30",
   "metadata": {},
   "outputs": [],
   "source": [
    "data = \"Mis compras.xlsx\"\n",
    "df = pd.read_excel(data, sheet_name=0, index_col=0)"
   ]
  },
  {
   "cell_type": "code",
   "execution_count": 6,
   "id": "a879cc70-1b1d-4cdc-bc7d-1969a9188cb3",
   "metadata": {},
   "outputs": [
    {
     "data": {
      "text/html": [
       "<div>\n",
       "<style scoped>\n",
       "    .dataframe tbody tr th:only-of-type {\n",
       "        vertical-align: middle;\n",
       "    }\n",
       "\n",
       "    .dataframe tbody tr th {\n",
       "        vertical-align: top;\n",
       "    }\n",
       "\n",
       "    .dataframe thead th {\n",
       "        text-align: right;\n",
       "    }\n",
       "</style>\n",
       "<table border=\"1\" class=\"dataframe\">\n",
       "  <thead>\n",
       "    <tr style=\"text-align: right;\">\n",
       "      <th></th>\n",
       "      <th>Precio inical</th>\n",
       "      <th>ahora</th>\n",
       "      <th>aumento</th>\n",
       "      <th>% Aumento</th>\n",
       "      <th>Hoy</th>\n",
       "    </tr>\n",
       "    <tr>\n",
       "      <th>Item</th>\n",
       "      <th></th>\n",
       "      <th></th>\n",
       "      <th></th>\n",
       "      <th></th>\n",
       "      <th></th>\n",
       "    </tr>\n",
       "  </thead>\n",
       "  <tbody>\n",
       "    <tr>\n",
       "      <th>Audiotechnica m30x</th>\n",
       "      <td>18000</td>\n",
       "      <td>143000</td>\n",
       "      <td>125000</td>\n",
       "      <td>694.44%</td>\n",
       "      <td>2024-04-26</td>\n",
       "    </tr>\n",
       "    <tr>\n",
       "      <th>Presonus AudioboxGo</th>\n",
       "      <td>16000</td>\n",
       "      <td>149000</td>\n",
       "      <td>133000</td>\n",
       "      <td>831.25%</td>\n",
       "      <td>2024-04-26</td>\n",
       "    </tr>\n",
       "    <tr>\n",
       "      <th>Behringer xm8500</th>\n",
       "      <td>11000</td>\n",
       "      <td>55000</td>\n",
       "      <td>44000</td>\n",
       "      <td>400%</td>\n",
       "      <td>2024-04-26</td>\n",
       "    </tr>\n",
       "    <tr>\n",
       "      <th>Silla Ergonomica Femnto</th>\n",
       "      <td>17000</td>\n",
       "      <td>199000</td>\n",
       "      <td>182000</td>\n",
       "      <td>1070.59%</td>\n",
       "      <td>2024-04-26</td>\n",
       "    </tr>\n",
       "  </tbody>\n",
       "</table>\n",
       "</div>"
      ],
      "text/plain": [
       "                         Precio inical   ahora  aumento % Aumento        Hoy\n",
       "Item                                                                        \n",
       "Audiotechnica m30x               18000  143000   125000   694.44% 2024-04-26\n",
       "Presonus AudioboxGo              16000  149000   133000   831.25% 2024-04-26\n",
       "Behringer xm8500                 11000   55000    44000      400% 2024-04-26\n",
       "Silla Ergonomica Femnto          17000  199000   182000  1070.59% 2024-04-26"
      ]
     },
     "execution_count": 6,
     "metadata": {},
     "output_type": "execute_result"
    }
   ],
   "source": [
    "df.head()"
   ]
  },
  {
   "cell_type": "code",
   "execution_count": 13,
   "id": "2894ed2a-2d72-49d9-bad0-3ed60aaeb625",
   "metadata": {},
   "outputs": [
    {
     "data": {
      "text/html": [
       "<div>\n",
       "<style scoped>\n",
       "    .dataframe tbody tr th:only-of-type {\n",
       "        vertical-align: middle;\n",
       "    }\n",
       "\n",
       "    .dataframe tbody tr th {\n",
       "        vertical-align: top;\n",
       "    }\n",
       "\n",
       "    .dataframe thead th {\n",
       "        text-align: right;\n",
       "    }\n",
       "</style>\n",
       "<table border=\"1\" class=\"dataframe\">\n",
       "  <thead>\n",
       "    <tr style=\"text-align: right;\">\n",
       "      <th></th>\n",
       "      <th>Precio inical</th>\n",
       "      <th>ahora</th>\n",
       "      <th>aumento</th>\n",
       "      <th>% Aumento</th>\n",
       "      <th>Dolar oficial</th>\n",
       "      <th>Dolar blue</th>\n",
       "    </tr>\n",
       "    <tr>\n",
       "      <th>Item</th>\n",
       "      <th></th>\n",
       "      <th></th>\n",
       "      <th></th>\n",
       "      <th></th>\n",
       "      <th></th>\n",
       "      <th></th>\n",
       "    </tr>\n",
       "  </thead>\n",
       "  <tbody>\n",
       "    <tr>\n",
       "      <th>Audiotechnica m30x</th>\n",
       "      <td>18000</td>\n",
       "      <td>143000</td>\n",
       "      <td>125000</td>\n",
       "      <td>694.44%</td>\n",
       "      <td>894.0</td>\n",
       "      <td>1035.0</td>\n",
       "    </tr>\n",
       "    <tr>\n",
       "      <th>Presonus AudioboxGo</th>\n",
       "      <td>16000</td>\n",
       "      <td>149000</td>\n",
       "      <td>133000</td>\n",
       "      <td>831.25%</td>\n",
       "      <td>894.0</td>\n",
       "      <td>1035.0</td>\n",
       "    </tr>\n",
       "    <tr>\n",
       "      <th>Behringer xm8500</th>\n",
       "      <td>11000</td>\n",
       "      <td>55000</td>\n",
       "      <td>44000</td>\n",
       "      <td>400%</td>\n",
       "      <td>894.0</td>\n",
       "      <td>1035.0</td>\n",
       "    </tr>\n",
       "    <tr>\n",
       "      <th>Silla Ergonomica Femnto</th>\n",
       "      <td>17000</td>\n",
       "      <td>199000</td>\n",
       "      <td>182000</td>\n",
       "      <td>1070.59%</td>\n",
       "      <td>894.0</td>\n",
       "      <td>1035.0</td>\n",
       "    </tr>\n",
       "  </tbody>\n",
       "</table>\n",
       "</div>"
      ],
      "text/plain": [
       "                         Precio inical   ahora  aumento % Aumento  \\\n",
       "Item                                                                \n",
       "Audiotechnica m30x               18000  143000   125000   694.44%   \n",
       "Presonus AudioboxGo              16000  149000   133000   831.25%   \n",
       "Behringer xm8500                 11000   55000    44000      400%   \n",
       "Silla Ergonomica Femnto          17000  199000   182000  1070.59%   \n",
       "\n",
       "                         Dolar oficial  Dolar blue  \n",
       "Item                                                \n",
       "Audiotechnica m30x               894.0      1035.0  \n",
       "Presonus AudioboxGo              894.0      1035.0  \n",
       "Behringer xm8500                 894.0      1035.0  \n",
       "Silla Ergonomica Femnto          894.0      1035.0  "
      ]
     },
     "execution_count": 13,
     "metadata": {},
     "output_type": "execute_result"
    }
   ],
   "source": [
    "df.drop(\"Hoy\", axis=1, inplace=True)\n",
    "df.head()"
   ]
  },
  {
   "cell_type": "code",
   "execution_count": 15,
   "id": "18811f92-d45a-4609-8cd9-a6cfb3509ba1",
   "metadata": {},
   "outputs": [
    {
     "data": {
      "text/html": [
       "<div>\n",
       "<style scoped>\n",
       "    .dataframe tbody tr th:only-of-type {\n",
       "        vertical-align: middle;\n",
       "    }\n",
       "\n",
       "    .dataframe tbody tr th {\n",
       "        vertical-align: top;\n",
       "    }\n",
       "\n",
       "    .dataframe thead th {\n",
       "        text-align: right;\n",
       "    }\n",
       "</style>\n",
       "<table border=\"1\" class=\"dataframe\">\n",
       "  <thead>\n",
       "    <tr style=\"text-align: right;\">\n",
       "      <th></th>\n",
       "      <th>Precio inical</th>\n",
       "      <th>ahora</th>\n",
       "      <th>aumento</th>\n",
       "      <th>% Aumento</th>\n",
       "      <th>Dolar oficial</th>\n",
       "      <th>Dolar blue</th>\n",
       "      <th>Hoy</th>\n",
       "    </tr>\n",
       "    <tr>\n",
       "      <th>Item</th>\n",
       "      <th></th>\n",
       "      <th></th>\n",
       "      <th></th>\n",
       "      <th></th>\n",
       "      <th></th>\n",
       "      <th></th>\n",
       "      <th></th>\n",
       "    </tr>\n",
       "  </thead>\n",
       "  <tbody>\n",
       "    <tr>\n",
       "      <th>Audiotechnica m30x</th>\n",
       "      <td>18000</td>\n",
       "      <td>143000</td>\n",
       "      <td>125000</td>\n",
       "      <td>694.44%</td>\n",
       "      <td>894.0</td>\n",
       "      <td>1035.0</td>\n",
       "      <td>2024-04-26</td>\n",
       "    </tr>\n",
       "    <tr>\n",
       "      <th>Presonus AudioboxGo</th>\n",
       "      <td>16000</td>\n",
       "      <td>149000</td>\n",
       "      <td>133000</td>\n",
       "      <td>831.25%</td>\n",
       "      <td>894.0</td>\n",
       "      <td>1035.0</td>\n",
       "      <td>2024-04-26</td>\n",
       "    </tr>\n",
       "    <tr>\n",
       "      <th>Behringer xm8500</th>\n",
       "      <td>11000</td>\n",
       "      <td>55000</td>\n",
       "      <td>44000</td>\n",
       "      <td>400%</td>\n",
       "      <td>894.0</td>\n",
       "      <td>1035.0</td>\n",
       "      <td>2024-04-26</td>\n",
       "    </tr>\n",
       "    <tr>\n",
       "      <th>Silla Ergonomica Femnto</th>\n",
       "      <td>17000</td>\n",
       "      <td>199000</td>\n",
       "      <td>182000</td>\n",
       "      <td>1070.59%</td>\n",
       "      <td>894.0</td>\n",
       "      <td>1035.0</td>\n",
       "      <td>2024-04-26</td>\n",
       "    </tr>\n",
       "  </tbody>\n",
       "</table>\n",
       "</div>"
      ],
      "text/plain": [
       "                         Precio inical   ahora  aumento % Aumento  \\\n",
       "Item                                                                \n",
       "Audiotechnica m30x               18000  143000   125000   694.44%   \n",
       "Presonus AudioboxGo              16000  149000   133000   831.25%   \n",
       "Behringer xm8500                 11000   55000    44000      400%   \n",
       "Silla Ergonomica Femnto          17000  199000   182000  1070.59%   \n",
       "\n",
       "                         Dolar oficial  Dolar blue         Hoy  \n",
       "Item                                                            \n",
       "Audiotechnica m30x               894.0      1035.0  2024-04-26  \n",
       "Presonus AudioboxGo              894.0      1035.0  2024-04-26  \n",
       "Behringer xm8500                 894.0      1035.0  2024-04-26  \n",
       "Silla Ergonomica Femnto          894.0      1035.0  2024-04-26  "
      ]
     },
     "execution_count": 15,
     "metadata": {},
     "output_type": "execute_result"
    }
   ],
   "source": [
    "from datetime import date\n",
    "today = date.today()\n",
    "df[\"Hoy\"] = today\n",
    "df.head()"
   ]
  },
  {
   "cell_type": "code",
   "execution_count": 16,
   "id": "08f307e0-e3e7-4eba-8e85-741fab12ad0a",
   "metadata": {},
   "outputs": [
    {
     "data": {
      "text/plain": [
       "Item\n",
       "Audiotechnica m30x         26-04-2024\n",
       "Presonus AudioboxGo        26-04-2024\n",
       "Behringer xm8500           26-04-2024\n",
       "Silla Ergonomica Femnto    26-04-2024\n",
       "Name: Hoy, dtype: object"
      ]
     },
     "execution_count": 16,
     "metadata": {},
     "output_type": "execute_result"
    }
   ],
   "source": [
    "df[\"Hoy\"] = pd.to_datetime(df[\"Hoy\"], format='%d-%m-%Y', dayfirst=True)\n",
    "df[\"Hoy\"] = df[\"Hoy\"].dt.strftime('%d-%m-%Y')\n",
    "df.Hoy"
   ]
  },
  {
   "cell_type": "markdown",
   "id": "4a7f0b1b-54f0-44fc-a989-633f94db84c5",
   "metadata": {},
   "source": [
    "### Create columns and add the data"
   ]
  },
  {
   "cell_type": "code",
   "execution_count": 17,
   "id": "01fb5d41-9af5-476d-8a8b-d4228e2373cf",
   "metadata": {},
   "outputs": [
    {
     "data": {
      "text/html": [
       "<div>\n",
       "<style scoped>\n",
       "    .dataframe tbody tr th:only-of-type {\n",
       "        vertical-align: middle;\n",
       "    }\n",
       "\n",
       "    .dataframe tbody tr th {\n",
       "        vertical-align: top;\n",
       "    }\n",
       "\n",
       "    .dataframe thead th {\n",
       "        text-align: right;\n",
       "    }\n",
       "</style>\n",
       "<table border=\"1\" class=\"dataframe\">\n",
       "  <thead>\n",
       "    <tr style=\"text-align: right;\">\n",
       "      <th></th>\n",
       "      <th>Precio inical</th>\n",
       "      <th>ahora</th>\n",
       "      <th>aumento</th>\n",
       "      <th>% Aumento</th>\n",
       "      <th>Dolar oficial</th>\n",
       "      <th>Dolar blue</th>\n",
       "      <th>Hoy</th>\n",
       "    </tr>\n",
       "    <tr>\n",
       "      <th>Item</th>\n",
       "      <th></th>\n",
       "      <th></th>\n",
       "      <th></th>\n",
       "      <th></th>\n",
       "      <th></th>\n",
       "      <th></th>\n",
       "      <th></th>\n",
       "    </tr>\n",
       "  </thead>\n",
       "  <tbody>\n",
       "    <tr>\n",
       "      <th>Audiotechnica m30x</th>\n",
       "      <td>18000</td>\n",
       "      <td>143000</td>\n",
       "      <td>125000</td>\n",
       "      <td>694.44%</td>\n",
       "      <td>894.0</td>\n",
       "      <td>1035.0</td>\n",
       "      <td>26-04-2024</td>\n",
       "    </tr>\n",
       "    <tr>\n",
       "      <th>Presonus AudioboxGo</th>\n",
       "      <td>16000</td>\n",
       "      <td>149000</td>\n",
       "      <td>133000</td>\n",
       "      <td>831.25%</td>\n",
       "      <td>894.0</td>\n",
       "      <td>1035.0</td>\n",
       "      <td>26-04-2024</td>\n",
       "    </tr>\n",
       "    <tr>\n",
       "      <th>Behringer xm8500</th>\n",
       "      <td>11000</td>\n",
       "      <td>55000</td>\n",
       "      <td>44000</td>\n",
       "      <td>400%</td>\n",
       "      <td>894.0</td>\n",
       "      <td>1035.0</td>\n",
       "      <td>26-04-2024</td>\n",
       "    </tr>\n",
       "    <tr>\n",
       "      <th>Silla Ergonomica Femnto</th>\n",
       "      <td>17000</td>\n",
       "      <td>199000</td>\n",
       "      <td>182000</td>\n",
       "      <td>1070.59%</td>\n",
       "      <td>894.0</td>\n",
       "      <td>1035.0</td>\n",
       "      <td>26-04-2024</td>\n",
       "    </tr>\n",
       "  </tbody>\n",
       "</table>\n",
       "</div>"
      ],
      "text/plain": [
       "                         Precio inical   ahora  aumento % Aumento  \\\n",
       "Item                                                                \n",
       "Audiotechnica m30x               18000  143000   125000   694.44%   \n",
       "Presonus AudioboxGo              16000  149000   133000   831.25%   \n",
       "Behringer xm8500                 11000   55000    44000      400%   \n",
       "Silla Ergonomica Femnto          17000  199000   182000  1070.59%   \n",
       "\n",
       "                         Dolar oficial  Dolar blue         Hoy  \n",
       "Item                                                            \n",
       "Audiotechnica m30x               894.0      1035.0  26-04-2024  \n",
       "Presonus AudioboxGo              894.0      1035.0  26-04-2024  \n",
       "Behringer xm8500                 894.0      1035.0  26-04-2024  \n",
       "Silla Ergonomica Femnto          894.0      1035.0  26-04-2024  "
      ]
     },
     "execution_count": 17,
     "metadata": {},
     "output_type": "execute_result"
    }
   ],
   "source": [
    "df[\"Dolar oficial\"] = dolar_oficial\n",
    "df[\"Dolar blue\"] = dolar_blue\n",
    "df.head()"
   ]
  },
  {
   "cell_type": "code",
   "execution_count": 19,
   "id": "91abf4f9-ff33-481f-a17a-aa064da1ccfd",
   "metadata": {},
   "outputs": [],
   "source": [
    "with pd.ExcelWriter(\"output.xlsx\") as writer:\n",
    "    df.to_excel(writer)"
   ]
  }
 ],
 "metadata": {
  "kernelspec": {
   "display_name": "Python 3 (ipykernel)",
   "language": "python",
   "name": "python3"
  },
  "language_info": {
   "codemirror_mode": {
    "name": "ipython",
    "version": 3
   },
   "file_extension": ".py",
   "mimetype": "text/x-python",
   "name": "python",
   "nbconvert_exporter": "python",
   "pygments_lexer": "ipython3",
   "version": "3.11.5"
  }
 },
 "nbformat": 4,
 "nbformat_minor": 5
}
