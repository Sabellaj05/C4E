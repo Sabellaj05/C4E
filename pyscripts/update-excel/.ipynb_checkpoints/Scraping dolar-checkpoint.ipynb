{
 "cells": [
  {
   "cell_type": "markdown",
   "id": "14c3f5b3-3d67-4889-adfd-8869d2a9e85d",
   "metadata": {},
   "source": [
    "# Scrapping dolar y mandarlo a Excel"
   ]
  },
  {
   "cell_type": "markdown",
   "id": "9821db80-1ee2-4eee-b5a9-5090003a8d3d",
   "metadata": {},
   "source": [
    "## Get dolars"
   ]
  },
  {
   "cell_type": "code",
   "execution_count": 1,
   "id": "2f3de83f-936b-46db-91d4-ad0c296b85ae",
   "metadata": {},
   "outputs": [],
   "source": [
    "import os\n",
    "import pandas\n",
    "from bs4 import BeautifulSoup\n",
    "import requests"
   ]
  },
  {
   "cell_type": "code",
   "execution_count": 40,
   "id": "3f008921-244e-46fc-85b9-a90726a43c5a",
   "metadata": {},
   "outputs": [],
   "source": [
    "urls =  {\"dolar_oficial\": \"https://dolarhoy.com/cotizaciondolaroficial\",\n",
    "         \"dolar_blue\": \"https://dolarhoy.com/cotizaciondolarblue\"}\n",
    "\n",
    "def get_dolars(urls: dict[str]) -> tuple:\n",
    "    \n",
    "    try:\n",
    "        # get html \n",
    "        response_ofi = requests.get(urls[\"dolar_oficial\"])\n",
    "        response_ofi.raise_for_status()\n",
    "        response_blue = requests.get(urls[\"dolar_blue\"])\n",
    "        response_blue.raise_for_status()\n",
    "        \n",
    "        # parse html to soup object\n",
    "        soup_ofi = BeautifulSoup(response_ofi.text, 'html.parser')\n",
    "        soup_blue = BeautifulSoup(response_blue.text, 'html.parser')\n",
    "        \n",
    "        # find particular tags and attributes, .text method to get only the text inside the div\n",
    "        dolar_ofi = soup_ofi.find(\"div\", class_=\"value\").text\n",
    "        dolar_blue = soup_blue.find(\"div\", class_=\"value\").text\n",
    "\n",
    "        # Sacamos el '$' y convertimos a float\n",
    "        dolar_ofi = float(dolar_ofi.lstrip(\"$\"))\n",
    "        dolar_blue = float(dolar_blue.lstrip(\"$\"))\n",
    "        # print(dolar_ofi)\n",
    "        # print(dolar_blue)\n",
    "        \n",
    "    except Exception as e:\n",
    "        print(e)\n",
    "\n",
    "    return dolar_ofi, dolar_blue\n",
    "    "
   ]
  },
  {
   "cell_type": "code",
   "execution_count": 41,
   "id": "a8e84f45-3ae1-47f2-8a69-3eb2b78c8f62",
   "metadata": {},
   "outputs": [],
   "source": [
    "# get data\n",
    "dolar_oficial, dolar_blue = get_dolars(urls)"
   ]
  },
  {
   "cell_type": "code",
   "execution_count": 42,
   "id": "afe51ef0-64ac-47cb-9135-1ee629f5ae30",
   "metadata": {},
   "outputs": [
    {
     "name": "stdout",
     "output_type": "stream",
     "text": [
      "Dolar Oficial: 894.0\n",
      "Dolar Blue: 1035.0\n"
     ]
    }
   ],
   "source": [
    "print(f\"Dolar Oficial: {dolar_oficial}\\nDolar Blue: {dolar_blue}\")"
   ]
  },
  {
   "cell_type": "markdown",
   "id": "cb390c7f-f756-4a3b-8e55-21fffc2a4e38",
   "metadata": {},
   "source": [
    "## Adding data to Excel sheet"
   ]
  },
  {
   "cell_type": "code",
   "execution_count": null,
   "id": "1a615bd8-16a4-4d3a-9bfe-d4cf4e288a30",
   "metadata": {},
   "outputs": [],
   "source": []
  }
 ],
 "metadata": {
  "kernelspec": {
   "display_name": "Python 3 (ipykernel)",
   "language": "python",
   "name": "python3"
  },
  "language_info": {
   "codemirror_mode": {
    "name": "ipython",
    "version": 3
   },
   "file_extension": ".py",
   "mimetype": "text/x-python",
   "name": "python",
   "nbconvert_exporter": "python",
   "pygments_lexer": "ipython3",
   "version": "3.11.5"
  }
 },
 "nbformat": 4,
 "nbformat_minor": 5
}
